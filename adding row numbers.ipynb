{
 "cells": [
  {
   "cell_type": "code",
   "execution_count": 2,
   "id": "97b84291",
   "metadata": {},
   "outputs": [],
   "source": [
    "import numpy as np\n",
    "import pandas as pd"
   ]
  },
  {
   "cell_type": "code",
   "execution_count": 90,
   "id": "9573907e",
   "metadata": {},
   "outputs": [
    {
     "data": {
      "text/plain": [
       "\"\\nfor i in filters:\\n    file = pd.read_csv('B_UVOT.txt')\\n    file.assign(row_number=range(len(df)))\\n    print(file)\\n\""
      ]
     },
     "execution_count": 90,
     "metadata": {},
     "output_type": "execute_result"
    }
   ],
   "source": [
    "#allf = pd.read_csv('FILTER.RES.latest')\n",
    "\n",
    "filters = ['B_UVOT.txt','U_UVOT.txt','UVM2_UVOT.txt', 'UVW1_UVOT.txt','UVW2_UVOT.txt','V_UVOT.txt',]\n",
    "\n",
    "file = pd.read_csv('B_UVOTnew.txt', header=None, sep=',')\n",
    "#file.iloc[:,0]= file.iloc[:,0]+1\n",
    "#print(file.iloc[:,0])\n",
    "\n",
    "file.to_csv('B_UVOTnew.txt', index= False, header=False, sep=' ')  \n",
    "      \n",
    "'''\n",
    "for i in filters:\n",
    "    file = pd.read_csv('B_UVOT.txt')\n",
    "    file.assign(row_number=range(len(df)))\n",
    "    print(file)\n",
    "'''"
   ]
  },
  {
   "cell_type": "code",
   "execution_count": null,
   "id": "63f754c9",
   "metadata": {},
   "outputs": [],
   "source": []
  }
 ],
 "metadata": {
  "kernelspec": {
   "display_name": "Python 3",
   "language": "python",
   "name": "python3"
  },
  "language_info": {
   "codemirror_mode": {
    "name": "ipython",
    "version": 3
   },
   "file_extension": ".py",
   "mimetype": "text/x-python",
   "name": "python",
   "nbconvert_exporter": "python",
   "pygments_lexer": "ipython3",
   "version": "3.8.8"
  }
 },
 "nbformat": 4,
 "nbformat_minor": 5
}
